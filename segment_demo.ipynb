{
 "cells": [
  {
   "cell_type": "code",
   "execution_count": 5,
   "metadata": {},
   "outputs": [
    {
     "name": "stderr",
     "output_type": "stream",
     "text": [
      "C:\\Users\\abjd\\AppData\\Local\\Continuum\\anaconda3\\envs\\septa\\lib\\site-packages\\ipykernel_launcher.py:29: SettingWithCopyWarning: \n",
      "A value is trying to be set on a copy of a slice from a DataFrame.\n",
      "Try using .loc[row_indexer,col_indexer] = value instead\n",
      "\n",
      "See the caveats in the documentation: http://pandas.pydata.org/pandas-docs/stable/user_guide/indexing.html#returning-a-view-versus-a-copy\n",
      "C:\\Users\\abjd\\AppData\\Local\\Continuum\\anaconda3\\envs\\septa\\lib\\site-packages\\ipykernel_launcher.py:30: SettingWithCopyWarning: \n",
      "A value is trying to be set on a copy of a slice from a DataFrame.\n",
      "Try using .loc[row_indexer,col_indexer] = value instead\n",
      "\n",
      "See the caveats in the documentation: http://pandas.pydata.org/pandas-docs/stable/user_guide/indexing.html#returning-a-view-versus-a-copy\n"
     ]
    }
   ],
   "source": [
    "# Which route?\n",
    "route = [31]\n",
    "\n",
    "# Which pattern?\n",
    "pattern = ['E01']\n",
    "\n",
    "# Where should Segment A start? Enter 1 for starting point or another stop sequence number.\n",
    "segment_point_1=1\n",
    "\n",
    "# Where should Segment A stop and Segment B start? Enter stop sequence number.\n",
    "segment_point_2=22\n",
    "\n",
    "# Where should Segment B end and Segment C begin? Enter stop sequence number.\n",
    "segment_point_3=38\n",
    "\n",
    "# Where should Segment C end? Enter stop sequence number.\n",
    "segment_point_4=62\n",
    "\n",
    "# Which variable would you like to summarize? (Enter LOAD, ONS, or OFFS)\n",
    "data_type = ['LOAD']\n",
    "\n",
    "import pandas as pd\n",
    "Year_1 = pd.read_csv(\"2019.csv\")\n",
    "Year_2 = pd.read_csv(\"2018.csv\")\n",
    "dummydata = Year_1.append(Year_2, sort=False)\n",
    "\n",
    "boardings_selection = dummydata[dummydata.ROUTE.isin(route) &\n",
    "                                dummydata.PATTERN.isin(pattern)]\n",
    "boardings_selection['YEAR'] = boardings_selection['YEAR'].astype(int)\n",
    "boardings_selection['YEAR'] = boardings_selection['YEAR'].astype(str)\n",
    "\n",
    "output_segment1 = boardings_selection[boardings_selection.STOPSEQ.isin(\n",
    "    range(segment_point_1,(segment_point_2+1)))]\n",
    "output_1 = output_segment1.groupby(['YEAR']).mean()\n",
    "output_1.reset_index()\n",
    "output_1 = output_1.loc[:, output_1.columns.intersection(data_type)]\n",
    "Segment_1 = output_1.T\n",
    "\n",
    "output_segment2 = boardings_selection[boardings_selection.STOPSEQ.isin(\n",
    "    range(segment_point_2,(segment_point_3+1)))]\n",
    "output_2 = output_segment2.groupby(['YEAR']).mean()\n",
    "output_2.reset_index()\n",
    "output_2 = output_2.loc[:, output_2.columns.intersection(data_type)]\n",
    "Segment_2 = output_2.T\n",
    "\n",
    "output_segment3 = boardings_selection[boardings_selection.STOPSEQ.isin(\n",
    "    range(segment_point_3,(segment_point_4+1)))]\n",
    "output_3 = output_segment3.groupby(['YEAR']).mean()\n",
    "output_3.reset_index()\n",
    "output_3 = output_3.loc[:, output_3.columns.intersection(data_type)]\n",
    "Segment_3 = output_3.T\n",
    "\n",
    "output = pd.concat([Segment_1, Segment_2, Segment_3], keys=['A', 'B', 'C'])\n",
    "output = output.unstack()\n",
    "output.columns = output.columns.get_level_values(0)\n",
    "output = output.reset_index()\n",
    "output.rename(columns={'index':'Segment'}, inplace=True)\n",
    "\n",
    "#File will be saved as export.csv\n",
    "export_csv = output.to_csv ('export.csv', index = None, header=True)"
   ]
  },
  {
   "cell_type": "markdown",
   "metadata": {},
   "source": [
    "GTFS data cleaning required:\n",
    "From Kenny's workbooks, save the master sheet as a new csv\n",
    "Create a new column with the year\n",
    "Save as the year name\n",
    "Make a csv for each year\n",
    "\n",
    "Caveats:\n",
    "Need to look at master\n",
    "Need to know which stop numbers you want to create segments\n",
    "Need to change operation type in the code (not user defined)\n",
    "Base code can only split into 3 segments\n",
    "\n",
    "Next steps:\n",
    "write script to specify list of break points and generates number of segments based on number of list points"
   ]
  },
  {
   "cell_type": "code",
   "execution_count": 45,
   "metadata": {},
   "outputs": [],
   "source": []
  },
  {
   "cell_type": "code",
   "execution_count": null,
   "metadata": {},
   "outputs": [],
   "source": []
  }
 ],
 "metadata": {
  "kernelspec": {
   "display_name": "Python 3",
   "language": "python",
   "name": "python3"
  },
  "language_info": {
   "codemirror_mode": {
    "name": "ipython",
    "version": 3
   },
   "file_extension": ".py",
   "mimetype": "text/x-python",
   "name": "python",
   "nbconvert_exporter": "python",
   "pygments_lexer": "ipython3",
   "version": "3.6.9"
  }
 },
 "nbformat": 4,
 "nbformat_minor": 2
}
